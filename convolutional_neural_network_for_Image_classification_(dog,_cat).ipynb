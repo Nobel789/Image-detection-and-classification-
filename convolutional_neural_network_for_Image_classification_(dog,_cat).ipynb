{
  "nbformat": 4,
  "nbformat_minor": 0,
  "metadata": {
    "colab": {
      "provenance": [],
      "gpuType": "T4"
    },
    "kernelspec": {
      "name": "python3",
      "display_name": "Python 3"
    },
    "accelerator": "GPU"
  },
  "cells": [
    {
      "cell_type": "markdown",
      "metadata": {
        "id": "3DR-eO17geWu"
      },
      "source": [
        "# Convolutional Neural Network"
      ]
    },
    {
      "cell_type": "code",
      "source": [
        "from google.colab import drive\n",
        "drive.mount('/content/drive')"
      ],
      "metadata": {
        "colab": {
          "base_uri": "https://localhost:8080/"
        },
        "id": "Ew9IUUcBiHlp",
        "outputId": "2834b619-882d-4e16-e9b6-3081f5c962fe"
      },
      "execution_count": null,
      "outputs": [
        {
          "output_type": "stream",
          "name": "stdout",
          "text": [
            "Mounted at /content/drive\n"
          ]
        }
      ]
    },
    {
      "cell_type": "markdown",
      "metadata": {
        "id": "EMefrVPCg-60"
      },
      "source": [
        "### Importing the libraries"
      ]
    },
    {
      "cell_type": "code",
      "metadata": {
        "id": "sCV30xyVhFbE"
      },
      "source": [
        "import tensorflow as tf\n",
        "from keras.preprocessing.image import ImageDataGenerator"
      ],
      "execution_count": null,
      "outputs": []
    },
    {
      "cell_type": "code",
      "metadata": {
        "id": "FIleuCAjoFD8",
        "colab": {
          "base_uri": "https://localhost:8080/",
          "height": 36
        },
        "outputId": "df032290-6f2d-4a46-a22d-f48c97cb883b"
      },
      "source": [
        "tf.__version__"
      ],
      "execution_count": null,
      "outputs": [
        {
          "output_type": "execute_result",
          "data": {
            "text/plain": [
              "'2.15.0'"
            ],
            "application/vnd.google.colaboratory.intrinsic+json": {
              "type": "string"
            }
          },
          "metadata": {},
          "execution_count": 4
        }
      ]
    },
    {
      "cell_type": "markdown",
      "metadata": {
        "id": "oxQxCBWyoGPE"
      },
      "source": [
        "## Part 1 - Data Preprocessing"
      ]
    },
    {
      "cell_type": "markdown",
      "metadata": {
        "id": "MvE-heJNo3GG"
      },
      "source": [
        "### Preprocessing the Training set"
      ]
    },
    {
      "cell_type": "code",
      "metadata": {
        "id": "0koUcJMJpEBD",
        "colab": {
          "base_uri": "https://localhost:8080/"
        },
        "outputId": "25b8e380-cc94-40e0-911c-17034707d6f8"
      },
      "source": [
        "train_datagen = ImageDataGenerator(rescale = 1./255,\n",
        "                                   shear_range = 0.2,\n",
        "                                   zoom_range = 0.2,\n",
        "                                   horizontal_flip = True)\n",
        "training_set = train_datagen.flow_from_directory('/content/drive/MyDrive/training_set',\n",
        "                                                 target_size = (64, 64),\n",
        "                                                 batch_size = 32,\n",
        "                                                 class_mode = 'binary')"
      ],
      "execution_count": null,
      "outputs": [
        {
          "output_type": "stream",
          "name": "stdout",
          "text": [
            "Found 4165 images belonging to 2 classes.\n"
          ]
        }
      ]
    },
    {
      "cell_type": "markdown",
      "metadata": {
        "id": "mrCMmGw9pHys"
      },
      "source": [
        "### Preprocessing the Test set"
      ]
    },
    {
      "cell_type": "code",
      "metadata": {
        "id": "SH4WzfOhpKc3",
        "colab": {
          "base_uri": "https://localhost:8080/"
        },
        "outputId": "4ddd1661-afa6-422c-a14f-9badfec9a184"
      },
      "source": [
        "test_datagen = ImageDataGenerator(rescale = 1./255)\n",
        "test_set = test_datagen.flow_from_directory('/content/drive/MyDrive/test_set',\n",
        "                                            target_size = (64, 64),\n",
        "                                            batch_size = 32,\n",
        "                                            class_mode = 'binary')"
      ],
      "execution_count": null,
      "outputs": [
        {
          "output_type": "stream",
          "name": "stdout",
          "text": [
            "Found 2000 images belonging to 2 classes.\n"
          ]
        }
      ]
    },
    {
      "cell_type": "markdown",
      "metadata": {
        "id": "af8O4l90gk7B"
      },
      "source": [
        "## Part 2 - Building the CNN"
      ]
    },
    {
      "cell_type": "markdown",
      "metadata": {
        "id": "ces1gXY2lmoX"
      },
      "source": [
        "### Initialising the CNN"
      ]
    },
    {
      "cell_type": "code",
      "metadata": {
        "id": "SAUt4UMPlhLS"
      },
      "source": [
        "cnn = tf.keras.models.Sequential()"
      ],
      "execution_count": null,
      "outputs": []
    },
    {
      "cell_type": "markdown",
      "metadata": {
        "id": "u5YJj_XMl5LF"
      },
      "source": [
        "### Step 1 - Convolution"
      ]
    },
    {
      "cell_type": "code",
      "metadata": {
        "id": "XPzPrMckl-hV"
      },
      "source": [
        "cnn.add(tf.keras.layers.Conv2D(filters=32, kernel_size=3, activation='relu', input_shape=[64, 64, 3]))"
      ],
      "execution_count": null,
      "outputs": []
    },
    {
      "cell_type": "markdown",
      "metadata": {
        "id": "tf87FpvxmNOJ"
      },
      "source": [
        "### Step 2 - Pooling"
      ]
    },
    {
      "cell_type": "code",
      "metadata": {
        "id": "ncpqPl69mOac"
      },
      "source": [
        "cnn.add(tf.keras.layers.MaxPool2D(pool_size=2, strides=2))"
      ],
      "execution_count": null,
      "outputs": []
    },
    {
      "cell_type": "markdown",
      "metadata": {
        "id": "xaTOgD8rm4mU"
      },
      "source": [
        "### Adding a second convolutional layer"
      ]
    },
    {
      "cell_type": "code",
      "metadata": {
        "id": "i_-FZjn_m8gk"
      },
      "source": [
        "cnn.add(tf.keras.layers.Conv2D(filters=32, kernel_size=3, activation='relu'))\n",
        "cnn.add(tf.keras.layers.MaxPool2D(pool_size=2, strides=2))"
      ],
      "execution_count": null,
      "outputs": []
    },
    {
      "cell_type": "markdown",
      "metadata": {
        "id": "tmiEuvTunKfk"
      },
      "source": [
        "### Step 3 - Flattening"
      ]
    },
    {
      "cell_type": "code",
      "metadata": {
        "id": "6AZeOGCvnNZn"
      },
      "source": [
        "cnn.add(tf.keras.layers.Flatten())"
      ],
      "execution_count": null,
      "outputs": []
    },
    {
      "cell_type": "markdown",
      "metadata": {
        "id": "dAoSECOm203v"
      },
      "source": [
        "### Step 4 - Full Connection"
      ]
    },
    {
      "cell_type": "code",
      "metadata": {
        "id": "8GtmUlLd26Nq"
      },
      "source": [
        "cnn.add(tf.keras.layers.Dense(units=128, activation='relu'))"
      ],
      "execution_count": null,
      "outputs": []
    },
    {
      "cell_type": "markdown",
      "metadata": {
        "id": "yTldFvbX28Na"
      },
      "source": [
        "### Step 5 - Output Layer"
      ]
    },
    {
      "cell_type": "code",
      "metadata": {
        "id": "1p_Zj1Mc3Ko_"
      },
      "source": [
        "cnn.add(tf.keras.layers.Dense(units=1, activation='sigmoid'))"
      ],
      "execution_count": null,
      "outputs": []
    },
    {
      "cell_type": "markdown",
      "metadata": {
        "id": "D6XkI90snSDl"
      },
      "source": [
        "## Part 3 - Training the CNN"
      ]
    },
    {
      "cell_type": "markdown",
      "metadata": {
        "id": "vfrFQACEnc6i"
      },
      "source": [
        "### Compiling the CNN"
      ]
    },
    {
      "cell_type": "code",
      "metadata": {
        "id": "NALksrNQpUlJ"
      },
      "source": [
        "cnn.compile(optimizer = 'adam', loss = 'binary_crossentropy', metrics = ['accuracy'])"
      ],
      "execution_count": null,
      "outputs": []
    },
    {
      "cell_type": "markdown",
      "metadata": {
        "id": "ehS-v3MIpX2h"
      },
      "source": [
        "### Training the CNN on the Training set and evaluating it on the Test set"
      ]
    },
    {
      "cell_type": "code",
      "source": [
        "cnn.fit(x = training_set, validation_data = test_set, epochs = 25)"
      ],
      "metadata": {
        "colab": {
          "base_uri": "https://localhost:8080/"
        },
        "id": "G8YthSreF2ag",
        "outputId": "a42d178d-d02c-47aa-b502-7295fe46613b"
      },
      "execution_count": 15,
      "outputs": [
        {
          "output_type": "stream",
          "name": "stdout",
          "text": [
            "Epoch 1/25\n",
            "131/131 [==============================] - 4422s 34s/step - loss: 0.1947 - accuracy: 0.9601 - val_loss: 1.5965 - val_accuracy: 0.5000\n",
            "Epoch 2/25\n",
            "131/131 [==============================] - 31s 239ms/step - loss: 0.1707 - accuracy: 0.9604 - val_loss: 2.0095 - val_accuracy: 0.5000\n",
            "Epoch 3/25\n",
            "131/131 [==============================] - 32s 242ms/step - loss: 0.1679 - accuracy: 0.9604 - val_loss: 1.8139 - val_accuracy: 0.5000\n",
            "Epoch 4/25\n",
            "131/131 [==============================] - 32s 243ms/step - loss: 0.1707 - accuracy: 0.9604 - val_loss: 1.3061 - val_accuracy: 0.5000\n",
            "Epoch 5/25\n",
            "131/131 [==============================] - 31s 238ms/step - loss: 0.1641 - accuracy: 0.9604 - val_loss: 1.7151 - val_accuracy: 0.5000\n",
            "Epoch 6/25\n",
            "131/131 [==============================] - 32s 245ms/step - loss: 0.1584 - accuracy: 0.9604 - val_loss: 1.5486 - val_accuracy: 0.5000\n",
            "Epoch 7/25\n",
            "131/131 [==============================] - 32s 247ms/step - loss: 0.1569 - accuracy: 0.9604 - val_loss: 1.7686 - val_accuracy: 0.5000\n",
            "Epoch 8/25\n",
            "131/131 [==============================] - 31s 237ms/step - loss: 0.1545 - accuracy: 0.9604 - val_loss: 1.6401 - val_accuracy: 0.5000\n",
            "Epoch 9/25\n",
            "131/131 [==============================] - 32s 245ms/step - loss: 0.1480 - accuracy: 0.9604 - val_loss: 1.2628 - val_accuracy: 0.5000\n",
            "Epoch 10/25\n",
            "131/131 [==============================] - 34s 258ms/step - loss: 0.1471 - accuracy: 0.9604 - val_loss: 1.6827 - val_accuracy: 0.5000\n",
            "Epoch 11/25\n",
            "131/131 [==============================] - 31s 236ms/step - loss: 0.1415 - accuracy: 0.9604 - val_loss: 1.3369 - val_accuracy: 0.5000\n",
            "Epoch 12/25\n",
            "131/131 [==============================] - 32s 244ms/step - loss: 0.1393 - accuracy: 0.9606 - val_loss: 1.7165 - val_accuracy: 0.5000\n",
            "Epoch 13/25\n",
            "131/131 [==============================] - 32s 246ms/step - loss: 0.1370 - accuracy: 0.9606 - val_loss: 1.3693 - val_accuracy: 0.5025\n",
            "Epoch 14/25\n",
            "131/131 [==============================] - 31s 241ms/step - loss: 0.1379 - accuracy: 0.9609 - val_loss: 1.7028 - val_accuracy: 0.5025\n",
            "Epoch 15/25\n",
            "131/131 [==============================] - 32s 245ms/step - loss: 0.1335 - accuracy: 0.9611 - val_loss: 1.5727 - val_accuracy: 0.5005\n",
            "Epoch 16/25\n",
            "131/131 [==============================] - 32s 243ms/step - loss: 0.1297 - accuracy: 0.9611 - val_loss: 1.4935 - val_accuracy: 0.5015\n",
            "Epoch 17/25\n",
            "131/131 [==============================] - 32s 244ms/step - loss: 0.1258 - accuracy: 0.9623 - val_loss: 1.9849 - val_accuracy: 0.5015\n",
            "Epoch 18/25\n",
            "131/131 [==============================] - 32s 245ms/step - loss: 0.1245 - accuracy: 0.9611 - val_loss: 1.4989 - val_accuracy: 0.5080\n",
            "Epoch 19/25\n",
            "131/131 [==============================] - 33s 254ms/step - loss: 0.1335 - accuracy: 0.9609 - val_loss: 1.5954 - val_accuracy: 0.5115\n",
            "Epoch 20/25\n",
            "131/131 [==============================] - 34s 258ms/step - loss: 0.1157 - accuracy: 0.9647 - val_loss: 1.7631 - val_accuracy: 0.5115\n",
            "Epoch 21/25\n",
            "131/131 [==============================] - 31s 238ms/step - loss: 0.1160 - accuracy: 0.9637 - val_loss: 1.9619 - val_accuracy: 0.5105\n",
            "Epoch 22/25\n",
            "131/131 [==============================] - 34s 259ms/step - loss: 0.1101 - accuracy: 0.9652 - val_loss: 2.0458 - val_accuracy: 0.5210\n",
            "Epoch 23/25\n",
            "131/131 [==============================] - 31s 235ms/step - loss: 0.1106 - accuracy: 0.9621 - val_loss: 1.5350 - val_accuracy: 0.5230\n",
            "Epoch 24/25\n",
            "131/131 [==============================] - 31s 236ms/step - loss: 0.1070 - accuracy: 0.9647 - val_loss: 1.8178 - val_accuracy: 0.5260\n",
            "Epoch 25/25\n",
            "131/131 [==============================] - 34s 260ms/step - loss: 0.1090 - accuracy: 0.9657 - val_loss: 1.8091 - val_accuracy: 0.5255\n"
          ]
        },
        {
          "output_type": "execute_result",
          "data": {
            "text/plain": [
              "<keras.src.callbacks.History at 0x7d7bb43360b0>"
            ]
          },
          "metadata": {},
          "execution_count": 15
        }
      ]
    },
    {
      "cell_type": "markdown",
      "metadata": {
        "id": "U3PZasO0006Z"
      },
      "source": [
        "## Part 4 - Making a single prediction"
      ]
    },
    {
      "cell_type": "code",
      "metadata": {
        "id": "gsSiWEJY1BPB",
        "colab": {
          "base_uri": "https://localhost:8080/"
        },
        "outputId": "d372ebf3-df64-4111-8c2b-1eea14660c40"
      },
      "source": [
        "import numpy as np\n",
        "from keras.preprocessing import image\n",
        "test_image = image.load_img('/content/cat_or_dog_1.jpg', target_size = (64, 64))\n",
        "test_image = image.img_to_array(test_image)\n",
        "test_image = np.expand_dims(test_image, axis = 0)\n",
        "result = cnn.predict(test_image)\n",
        "training_set.class_indices\n",
        "if result[0][0] == 1:\n",
        "  prediction = 'dog'\n",
        "else:\n",
        "  prediction = 'cat'"
      ],
      "execution_count": 16,
      "outputs": [
        {
          "output_type": "stream",
          "name": "stdout",
          "text": [
            "1/1 [==============================] - 0s 205ms/step\n"
          ]
        }
      ]
    },
    {
      "cell_type": "code",
      "metadata": {
        "id": "ED9KB3I54c1i",
        "colab": {
          "base_uri": "https://localhost:8080/"
        },
        "outputId": "fc8e98b2-325f-4608-a9d9-0304fa63ed7b"
      },
      "source": [
        "print(prediction)"
      ],
      "execution_count": 17,
      "outputs": [
        {
          "output_type": "stream",
          "name": "stdout",
          "text": [
            "dog\n"
          ]
        }
      ]
    }
  ]
}